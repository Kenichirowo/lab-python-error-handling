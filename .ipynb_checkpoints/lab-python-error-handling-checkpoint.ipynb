{
 "cells": [
  {
   "cell_type": "markdown",
   "id": "25d7736c-ba17-4aff-b6bb-66eba20fbf4e",
   "metadata": {},
   "source": [
    "# Lab | Error Handling"
   ]
  },
  {
   "cell_type": "markdown",
   "id": "bc99b386-7508-47a0-bcdb-d969deaf6c8b",
   "metadata": {},
   "source": [
    "## Exercise: Error Handling for Managing Customer Orders\n",
    "\n",
    "The implementation of your code for managing customer orders assumes that the user will always enter a valid input. \n",
    "\n",
    "For example, we could modify the `initialize_inventory` function to include error handling.\n",
    "   - If the user enters an invalid quantity (e.g., a negative value or a non-numeric value), display an error message and ask them to re-enter the quantity for that product.\n",
    "   - Use a try-except block to handle the error and continue prompting the user until a valid quantity is entered.\n",
    "\n",
    "```python\n",
    "# Step 1: Define the function for initializing the inventory with error handling\n",
    "def initialize_inventory(products):\n",
    "    inventory = {}\n",
    "    for product in products:\n",
    "        valid_quantity = False\n",
    "        while not valid_quantity:\n",
    "            try:\n",
    "                quantity = int(input(f\"Enter the quantity of {product}s available: \"))\n",
    "                if quantity < 0:\n",
    "                    raise ValueError(\"Invalid quantity! Please enter a non-negative value.\")\n",
    "                valid_quantity = True\n",
    "            except ValueError as error:\n",
    "                print(f\"Error: {error}\")\n",
    "        inventory[product] = quantity\n",
    "    return inventory\n",
    "\n",
    "# Or, in another way:\n",
    "\n",
    "def initialize_inventory(products):\n",
    "    inventory = {}\n",
    "    for product in products:\n",
    "        valid_input = False\n",
    "        while not valid_input:\n",
    "            try:\n",
    "                quantity = int(input(f\"Enter the quantity of {product}s available: \"))\n",
    "                if quantity >= 0:\n",
    "                    inventory[product] = quantity\n",
    "                    valid_input = True\n",
    "                else:\n",
    "                    print(\"Quantity cannot be negative. Please enter a valid quantity.\")\n",
    "            except ValueError:\n",
    "                print(\"Invalid input. Please enter a valid quantity.\")\n",
    "    return inventory\n",
    "```\n",
    "\n",
    "Let's enhance your code by implementing error handling to handle invalid inputs.\n",
    "\n",
    "Follow the steps below to complete the exercise:\n",
    "\n",
    "2. Modify the `calculate_total_price` function to include error handling.\n",
    "   - If the user enters an invalid price (e.g., a negative value or a non-numeric value), display an error message and ask them to re-enter the price for that product.\n",
    "   - Use a try-except block to handle the error and continue prompting the user until a valid price is entered.\n",
    "\n",
    "3. Modify the `get_customer_orders` function to include error handling.\n",
    "   - If the user enters an invalid number of orders (e.g., a negative value or a non-numeric value), display an error message and ask them to re-enter the number of orders.\n",
    "   - If the user enters an invalid product name (e.g., a product name that is not in the inventory), or that doesn't have stock available, display an error message and ask them to re-enter the product name. *Hint: you will need to pass inventory as a parameter*\n",
    "   - Use a try-except block to handle the error and continue prompting the user until a valid product name is entered.\n",
    "\n",
    "4. Test your code by running the program and deliberately entering invalid quantities and product names. Make sure the error handling mechanism works as expected.\n"
   ]
  },
  {
   "cell_type": "code",
   "execution_count": 16,
   "id": "8ad0396c-6016-4cd8-86cd-a888f546b3a4",
   "metadata": {},
   "outputs": [],
   "source": [
    "#gathering here updated versions from last lab functions:\n",
    "\n",
    "products = ['t-shirt', 'mug', 'hat', 'book', 'keychain']\n",
    "\n",
    "inventory = {}\n",
    "\n",
    "def initialize_inventory(products):\n",
    "    inventory = {product: int(input(f\"Enter the quantity of {product}s available: \")) for product in products}\n",
    "    return inventory\n",
    "\n",
    "def get_customer_orders():\n",
    "    customer_orders = set()\n",
    "\n",
    "    try:\n",
    "        num_orders = int(input(\"Enter the number of customer orders: \"))\n",
    "    except ValueError:\n",
    "        print(\"Please enter a valid number.\")\n",
    "        return customer_orders\n",
    "\n",
    "    while len(customer_orders) < num_orders: #making sure that we are going to request as many available products as we entered earlier\n",
    "        # Attempt to add a valid product through comprehension\n",
    "        customer_orders.update({\n",
    "            product\n",
    "            for product in [input(\"Enter the name of a that a customer wants to order: \")]\n",
    "            if product in products and product not in customer_orders\n",
    "            or print(\"Invalid product or duplicate. Please choose a different option.\")\n",
    "        })\n",
    "\n",
    "    return customer_orderss\n",
    "\n",
    "def update_inventory(customer_orders, inventory):\n",
    "    return {\n",
    "        product: new_quantity\n",
    "        for product in inventory\n",
    "        if (new_quantity := inventory[product] - (1 if product in customer_orders else 0)) > 0\n",
    "    }\n",
    "\n",
    "def calculate_order_statistics(customer_orders, products):\n",
    "    total_products_ordered = len(customer_orders)\n",
    "    total_unique_products = len(products)\n",
    "    unique_products_ordered = (total_products_ordered / total_unique_products * 100) if total_unique_products > 0 else 0\n",
    "    order_statistics = total_products_ordered, unique_products_ordered\n",
    "    return order_statistics\n",
    "\n",
    "def print_order_statistics(order_statistics):\n",
    "    total_products_ordered,  unique_products_ordered = order_statistics\n",
    "    print(\"Order Statistics:\")\n",
    "    print(f\"Total Products Ordered: {total_products_ordered}\")\n",
    "    print(f\"Percentage of Unique Products Ordered: {unique_products_ordered}\")\n",
    "\n",
    "def print_updated_inventory(inventory):\n",
    "    print(\"Updated Inventory:\")\n",
    "    [print(f\"{product}: {quantity}\") for product, quantity in inventory.items()]\n",
    "\n",
    "def calculate_total_price(customer_orders):\n",
    "    total_price = sum(\n",
    "        float(input(f\"Enter the price for {product}: \"))\n",
    "        for product in customer_orders\n",
    "    )\n",
    "    print(f\"Total Price: {total_price}\")"
   ]
  },
  {
   "cell_type": "code",
   "execution_count": 17,
   "id": "09ab5589-92d2-4810-b76d-9af9222e62b5",
   "metadata": {},
   "outputs": [],
   "source": [
    "# new initialize_inventory function\n",
    "\n",
    "def initialize_inventory(products):\n",
    "    inventory = {}\n",
    "    for product in products:\n",
    "        valid_quantity = False\n",
    "        while not valid_quantity:\n",
    "            try:\n",
    "                quantity = int(input(f\"Enter the quantity of {product}s available: \"))\n",
    "                if quantity < 0:\n",
    "                    raise ValueError(\"Invalid quantity! Please enter a non-negative value.\")\n",
    "                valid_quantity = True\n",
    "            except ValueError as error:\n",
    "                print(f\"Error: {error}\")\n",
    "        inventory[product] = quantity\n",
    "    return inventory\n"
   ]
  },
  {
   "cell_type": "markdown",
   "id": "954daac3-1d18-465e-b650-c016d6873aa3",
   "metadata": {},
   "source": [
    "2. Modify the calculate_total_price function to include error handling."
   ]
  },
  {
   "cell_type": "code",
   "execution_count": 18,
   "id": "72c5f160-dc55-46a5-ad92-88e5d4c1092a",
   "metadata": {},
   "outputs": [],
   "source": [
    "def calculate_total_price(customer_orders):\n",
    "    total_price = 0 #setting the variable\n",
    "    for product in customer_orders: #lets make sure to ask price for every prodict in customer orders\n",
    "        while True: #Since True is always true, while True creates a loop that continues indefinitely unless explicitly broken out of.\n",
    "            try:\n",
    "                price = float(input(f\"Enter the price for {product}: \"))\n",
    "                if price < 0:\n",
    "                    raise ValueError(\"Price cannot be negative.\")\n",
    "                total_price += price\n",
    "                break  # Exit the loop if input is valid.\n",
    "            except ValueError as e: # we are using 'as' to capture the exception object in a try-except block so we can print it in the next line.\n",
    "                print(f\"Invalid input: {e}. Please enter a valid price.\")\n",
    "    \n",
    "    print(f\"Total Price: {total_price}\")"
   ]
  },
  {
   "cell_type": "markdown",
   "id": "3786066c-61e9-4f7d-a431-8ed25a235019",
   "metadata": {},
   "source": [
    "3. Modify the get_customer_orders function to include error handling."
   ]
  },
  {
   "cell_type": "code",
   "execution_count": 19,
   "id": "c4d057bf-a2e0-4b11-a5b0-d6d63da32254",
   "metadata": {},
   "outputs": [],
   "source": [
    "def get_customer_orders(inventory):\n",
    "    customer_orders = set()\n",
    "\n",
    "    # Handle error for the number of orders\n",
    "    while True: # Since True is always true, while True creates a loop that continues indefinitely unless explicitly broken out of.\n",
    "        try:\n",
    "            num_orders = int(input(\"Enter the number of customer orders: \"))\n",
    "            if num_orders <= 0:\n",
    "                raise ValueError(\"The number of orders must be a positive integer.\") #generates a ValueError. This triggers the except block, prompting the user to try again.\n",
    "            break\n",
    "        except ValueError as e:\n",
    "            print(f\"Invalid input: {e}. Please re-enter the number of orders.\")\n",
    "\n",
    "    # Handle error for selecting valid products\n",
    "    while len(customer_orders) < num_orders:\n",
    "        product = input(\"Enter the name of a product that a customer wants to order: \")\n",
    "        if product in inventory and inventory[product] > 0: # This condition ensures two things: 'product in inventory' and 'product is in stock (inventory[product] > 0)'.\n",
    "            customer_orders.add(product) # adding the input product to customer_orders\n",
    "            inventory[product] -= 1  # Decrementing the stock of the selected product\n",
    "        else:\n",
    "            print(\"Invalid product or out of stock. Please choose a different option.\")\n",
    "    \n",
    "    return customer_orders"
   ]
  },
  {
   "cell_type": "markdown",
   "id": "4d071938-f7e1-4be3-a53c-fe6073536ec0",
   "metadata": {},
   "source": [
    "4. Test your code by running the program and deliberately entering invalid quantities and product names. Make sure the error handling mechanism works as expected."
   ]
  },
  {
   "cell_type": "code",
   "execution_count": 20,
   "id": "d4429ce7-8b8e-4ac6-beac-2eb59fdff8cc",
   "metadata": {},
   "outputs": [
    {
     "name": "stdin",
     "output_type": "stream",
     "text": [
      "Enter the quantity of t-shirts available:  4f\n"
     ]
    },
    {
     "name": "stdout",
     "output_type": "stream",
     "text": [
      "Error: invalid literal for int() with base 10: '4f'\n"
     ]
    },
    {
     "name": "stdin",
     "output_type": "stream",
     "text": [
      "Enter the quantity of t-shirts available:  erfe\n"
     ]
    },
    {
     "name": "stdout",
     "output_type": "stream",
     "text": [
      "Error: invalid literal for int() with base 10: 'erfe'\n"
     ]
    },
    {
     "name": "stdin",
     "output_type": "stream",
     "text": [
      "Enter the quantity of t-shirts available:  -12\n"
     ]
    },
    {
     "name": "stdout",
     "output_type": "stream",
     "text": [
      "Error: Invalid quantity! Please enter a non-negative value.\n"
     ]
    },
    {
     "name": "stdin",
     "output_type": "stream",
     "text": [
      "Enter the quantity of t-shirts available:  10\n",
      "Enter the quantity of mugs available:  0\n",
      "Enter the quantity of hats available:  1\n",
      "Enter the quantity of books available:  10\n",
      "Enter the quantity of keychains available:  10\n",
      "Enter the number of customer orders:  fr\n"
     ]
    },
    {
     "name": "stdout",
     "output_type": "stream",
     "text": [
      "Invalid input: invalid literal for int() with base 10: 'fr'. Please re-enter the number of orders.\n"
     ]
    },
    {
     "name": "stdin",
     "output_type": "stream",
     "text": [
      "Enter the number of customer orders:  3\n",
      "Enter the name of a product that a customer wants to order:  mug\n"
     ]
    },
    {
     "name": "stdout",
     "output_type": "stream",
     "text": [
      "Invalid product or out of stock. Please choose a different option.\n"
     ]
    },
    {
     "name": "stdin",
     "output_type": "stream",
     "text": [
      "Enter the name of a product that a customer wants to order:  23\n"
     ]
    },
    {
     "name": "stdout",
     "output_type": "stream",
     "text": [
      "Invalid product or out of stock. Please choose a different option.\n"
     ]
    },
    {
     "name": "stdin",
     "output_type": "stream",
     "text": [
      "Enter the name of a product that a customer wants to order:  book\n",
      "Enter the name of a product that a customer wants to order:  hat\n",
      "Enter the name of a product that a customer wants to order:  hat\n"
     ]
    },
    {
     "name": "stdout",
     "output_type": "stream",
     "text": [
      "Invalid product or out of stock. Please choose a different option.\n"
     ]
    },
    {
     "name": "stdin",
     "output_type": "stream",
     "text": [
      "Enter the name of a product that a customer wants to order:  keychain\n"
     ]
    },
    {
     "name": "stdout",
     "output_type": "stream",
     "text": [
      "\n",
      "Order Statistics:\n",
      "Total Products Ordered: 3\n",
      "Percentage of Unique Products Ordered: 60.0\n",
      "\n",
      "\n",
      "Updated Inventory:\n",
      "t-shirt: 10\n",
      "book: 8\n",
      "keychain: 8\n",
      "\n"
     ]
    },
    {
     "name": "stdin",
     "output_type": "stream",
     "text": [
      "Enter the price for keychain:  -1\n"
     ]
    },
    {
     "name": "stdout",
     "output_type": "stream",
     "text": [
      "Invalid input: Price cannot be negative.. Please enter a valid price.\n"
     ]
    },
    {
     "name": "stdin",
     "output_type": "stream",
     "text": [
      "Enter the price for keychain:  fre\n"
     ]
    },
    {
     "name": "stdout",
     "output_type": "stream",
     "text": [
      "Invalid input: could not convert string to float: 'fre'. Please enter a valid price.\n"
     ]
    },
    {
     "name": "stdin",
     "output_type": "stream",
     "text": [
      "Enter the price for keychain:  10\n",
      "Enter the price for book:  25\n",
      "Enter the price for hat:  15\n"
     ]
    },
    {
     "name": "stdout",
     "output_type": "stream",
     "text": [
      "Total Price: 50.0\n"
     ]
    }
   ],
   "source": [
    "products = ['t-shirt', 'mug', 'hat', 'book', 'keychain']\n",
    "\n",
    "# Step 1: Initialize the inventory\n",
    "inventory = initialize_inventory(products)\n",
    "\n",
    "# Step 2: Get customer orders - in this exercise we need to pass the inventory to the function\n",
    "customer_orders = get_customer_orders(inventory)\n",
    "\n",
    "print(\"\")\n",
    "\n",
    "# Step 3: Print order statistics\n",
    "order_statistics = calculate_order_statistics(customer_orders, products)\n",
    "print_order_statistics(order_statistics)\n",
    "\n",
    "print(\"\")\n",
    "\n",
    "# Step 4: Update inventory based on customer orders\n",
    "updated_inventory = update_inventory(customer_orders, inventory)\n",
    "\n",
    "print(\"\")\n",
    "\n",
    "#let's use the print_updated_inventory too! :)\n",
    "print_updated_inventory(updated_inventory)\n",
    "\n",
    "print(\"\")\n",
    "\n",
    "#And finally let's print total price\n",
    "calculate_total_price(customer_orders)"
   ]
  },
  {
   "cell_type": "code",
   "execution_count": null,
   "id": "f4f69535-1f99-4b80-954f-7cdb2a371e42",
   "metadata": {},
   "outputs": [],
   "source": []
  }
 ],
 "metadata": {
  "kernelspec": {
   "display_name": "Python 3 (ipykernel)",
   "language": "python",
   "name": "python3"
  },
  "language_info": {
   "codemirror_mode": {
    "name": "ipython",
    "version": 3
   },
   "file_extension": ".py",
   "mimetype": "text/x-python",
   "name": "python",
   "nbconvert_exporter": "python",
   "pygments_lexer": "ipython3",
   "version": "3.12.7"
  }
 },
 "nbformat": 4,
 "nbformat_minor": 5
}
